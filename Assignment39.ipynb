{
  "metadata": {
    "kernelspec": {
      "name": "python",
      "display_name": "Python (Pyodide)",
      "language": "python"
    },
    "language_info": {
      "codemirror_mode": {
        "name": "python",
        "version": 3
      },
      "file_extension": ".py",
      "mimetype": "text/x-python",
      "name": "python",
      "nbconvert_exporter": "python",
      "pygments_lexer": "ipython3",
      "version": "3.8"
    }
  },
  "nbformat_minor": 4,
  "nbformat": 4,
  "cells": [
    {
      "cell_type": "code",
      "source": "# Q1. What is Min-Max scaling, and how is it used in data preprocessing? Provide an example to illustrate its application.\n\nMin-Max scaling transforms data into a fixed range, typically [0, 1] or [-1, 1], by subtracting the minimum value and dividing by the range. \nIt is useful for algorithms that are sensitive to the scale of the data (e.g., neural networks, k-NN).\nExample: For the dataset [1, 5, 10, 15, 20] with the desired range of [0, 1]:\n\nMin = 1, Max = 20.\nTransformed value for 5:  (5-1)/(20-1) = 4/19 = 0.21\n\n# Q2. What is the Unit Vector technique in feature scaling, and how does it differ from Min-Max scaling? Provide an example to illustrate its application.\n\nUnit Vector scaling (also known as normalization) scales data by dividing each feature by its magnitude (Euclidean norm). It makes the data fall on the unit circle \nor unit sphere.\n\nDifference:\nMin-Max scales data to a fixed range.\nUnit Vector scales data to a unit vector (magnitude = 1).\nExample: For a 2D feature [3, 4]:\n\nMagnitude = sq root (9 + 16) = 5\nUnit vector = [3/5,4/5]=[0.6,0.8].\n\n# Q3. What is PCA (Principle Component Analysis), and how is it used in dimensionality reduction? Provide anexample to illustrate its application.\n\nPCA is a technique for reducing the dimensionality of data by projecting it onto a smaller set of uncorrelated variables called principal components. \nIt preserves as much variance as possible. Example: For a dataset with features [x1, x2], PCA can find the direction (principal component) where the data \nvariance is maximized, and project the data onto this direction, reducing the number of features while retaining most of the information.\n\n# Q4. What is the relationship between PCA and Feature Extraction, and how can PCA be used for Feature Extraction? Provide an example to illustrate this concept.\n\nPCA is a feature extraction technique because it finds the most important features (principal components) that explain the variance in the data. \nIt reduces the number of features while maintaining information. Example: For a dataset with 10 features, PCA can reduce them to the top 2 principal \ncomponents that capture most of the variance, thus extracting the most important features.\n\n# Q5. You are working on a project to build a recommendation system for a food delivery service. The dataset\n# contains features such as price, rating, and delivery time. Explain how you would use Min-Max scaling to preprocess the data.\n\nFor the Min-Max scaling:\nFind the minimum and maximum values of each feature (price, rating, delivery time).\nScale each feature to a range of [0, 1].\nApply the scaling to all data points to normalize the features, ensuring they contribute equally to the recommendation system.\n\n\n# Q6. You are working on a project to build a model to predict stock prices. The dataset contains many\n# features, such as company financial data and market trends. Explain how you would use PCA to reduce the dimensionality of the dataset.\n\nUsing PCA:\nStandardize the features (e.g., stock price, market trends).\nApply PCA to the standardized data to find the principal components.\nReduce the dataset by selecting the top components that explain the most variance.\nUse the reduced dataset for training the model, improving efficiency without losing essential information.\n               \n\n# Q7. For a dataset containing the following values: [1, 5, 10, 15, 20], perform Min-Max scaling to transform the values to a range of -1 to 1.\n\nMin-Max scaling formula:  scaled value = (2(x-min)/ max-min) -1\nFor dataset [1, 5, 10, 15, 20]:\n\nMin = 1, Max = 20.\nTransformed value for 5: {2(5-1)/(20-1)} - 1\n                         = -0.579\nRepeat for other values.\n      \n# Q8. For a dataset containing the following features: [height, weight, age, gender, blood pressure], perform\n\nFor feature scaling:\nHeight, weight, age, and blood pressure: Use Min-Max scaling or Unit Vector scaling depending on the model requirements.\nGender: Encode as binary (0 or 1) for consistent scaling with other numerical features.    ",
      "metadata": {
        "trusted": true
      },
      "outputs": [],
      "execution_count": null
    }
  ]
}